{
 "cells": [
  {
   "cell_type": "code",
   "execution_count": 1,
   "id": "c34b060a-4e96-49ea-8a1a-3c97cff933fe",
   "metadata": {},
   "outputs": [],
   "source": [
    "#Starter: Nintendo Business Analysis\n",
    "#Quick load + first look at the VG Sales dataset.\n",
    "#Tasks: load data, show top Nintendo titles, compare global sales by major publishers (Nintendo, Sony, Microsoft) and regional breakdown"
   ]
  },
  {
   "cell_type": "code",
   "execution_count": 2,
   "id": "ea3f0e4e-94fd-4879-9807-5decc4c49145",
   "metadata": {},
   "outputs": [],
   "source": [
    "#Import libraries\n",
    "import pandas as pd\n",
    "import numpy as np\n",
    "import matplotlib.pyplot as plt\n",
    "import seaborn as sns\n",
    "\n",
    "#Display settings\n",
    "\n",
    "pd.options.display. max_columns = 200\n",
    "sns.set(style =\"whitegrid\")\n",
    "%matplotlib inline"
   ]
  },
  {
   "cell_type": "code",
   "execution_count": 21,
   "id": "05f886fc-ee66-4264-a6be-015890893112",
   "metadata": {},
   "outputs": [
    {
     "name": "stdout",
     "output_type": "stream",
     "text": [
      "C:\\Users\\marti\\Video-Game-Sales-on-a-Global-Scale\\notebooks\n",
      "C:\\Users\\marti\\Video-Game-Sales-on-a-Global-Scale\\notebooks\n",
      "Shape: (16598, 11)\n"
     ]
    },
    {
     "data": {
      "text/html": [
       "<div>\n",
       "<style scoped>\n",
       "    .dataframe tbody tr th:only-of-type {\n",
       "        vertical-align: middle;\n",
       "    }\n",
       "\n",
       "    .dataframe tbody tr th {\n",
       "        vertical-align: top;\n",
       "    }\n",
       "\n",
       "    .dataframe thead th {\n",
       "        text-align: right;\n",
       "    }\n",
       "</style>\n",
       "<table border=\"1\" class=\"dataframe\">\n",
       "  <thead>\n",
       "    <tr style=\"text-align: right;\">\n",
       "      <th></th>\n",
       "      <th>Rank</th>\n",
       "      <th>Name</th>\n",
       "      <th>Platform</th>\n",
       "      <th>Year</th>\n",
       "      <th>Genre</th>\n",
       "      <th>Publisher</th>\n",
       "      <th>NA_Sales</th>\n",
       "      <th>EU_Sales</th>\n",
       "      <th>JP_Sales</th>\n",
       "      <th>Other_Sales</th>\n",
       "      <th>Global_Sales</th>\n",
       "    </tr>\n",
       "  </thead>\n",
       "  <tbody>\n",
       "    <tr>\n",
       "      <th>0</th>\n",
       "      <td>1</td>\n",
       "      <td>Wii Sports</td>\n",
       "      <td>Wii</td>\n",
       "      <td>2006.0</td>\n",
       "      <td>Sports</td>\n",
       "      <td>Nintendo</td>\n",
       "      <td>41.49</td>\n",
       "      <td>29.02</td>\n",
       "      <td>3.77</td>\n",
       "      <td>8.46</td>\n",
       "      <td>82.74</td>\n",
       "    </tr>\n",
       "    <tr>\n",
       "      <th>1</th>\n",
       "      <td>2</td>\n",
       "      <td>Super Mario Bros.</td>\n",
       "      <td>NES</td>\n",
       "      <td>1985.0</td>\n",
       "      <td>Platform</td>\n",
       "      <td>Nintendo</td>\n",
       "      <td>29.08</td>\n",
       "      <td>3.58</td>\n",
       "      <td>6.81</td>\n",
       "      <td>0.77</td>\n",
       "      <td>40.24</td>\n",
       "    </tr>\n",
       "    <tr>\n",
       "      <th>2</th>\n",
       "      <td>3</td>\n",
       "      <td>Mario Kart Wii</td>\n",
       "      <td>Wii</td>\n",
       "      <td>2008.0</td>\n",
       "      <td>Racing</td>\n",
       "      <td>Nintendo</td>\n",
       "      <td>15.85</td>\n",
       "      <td>12.88</td>\n",
       "      <td>3.79</td>\n",
       "      <td>3.31</td>\n",
       "      <td>35.82</td>\n",
       "    </tr>\n",
       "    <tr>\n",
       "      <th>3</th>\n",
       "      <td>4</td>\n",
       "      <td>Wii Sports Resort</td>\n",
       "      <td>Wii</td>\n",
       "      <td>2009.0</td>\n",
       "      <td>Sports</td>\n",
       "      <td>Nintendo</td>\n",
       "      <td>15.75</td>\n",
       "      <td>11.01</td>\n",
       "      <td>3.28</td>\n",
       "      <td>2.96</td>\n",
       "      <td>33.00</td>\n",
       "    </tr>\n",
       "    <tr>\n",
       "      <th>4</th>\n",
       "      <td>5</td>\n",
       "      <td>Pokemon Red/Pokemon Blue</td>\n",
       "      <td>GB</td>\n",
       "      <td>1996.0</td>\n",
       "      <td>Role-Playing</td>\n",
       "      <td>Nintendo</td>\n",
       "      <td>11.27</td>\n",
       "      <td>8.89</td>\n",
       "      <td>10.22</td>\n",
       "      <td>1.00</td>\n",
       "      <td>31.37</td>\n",
       "    </tr>\n",
       "  </tbody>\n",
       "</table>\n",
       "</div>"
      ],
      "text/plain": [
       "   Rank                      Name Platform    Year         Genre Publisher  \\\n",
       "0     1                Wii Sports      Wii  2006.0        Sports  Nintendo   \n",
       "1     2         Super Mario Bros.      NES  1985.0      Platform  Nintendo   \n",
       "2     3            Mario Kart Wii      Wii  2008.0        Racing  Nintendo   \n",
       "3     4         Wii Sports Resort      Wii  2009.0        Sports  Nintendo   \n",
       "4     5  Pokemon Red/Pokemon Blue       GB  1996.0  Role-Playing  Nintendo   \n",
       "\n",
       "   NA_Sales  EU_Sales  JP_Sales  Other_Sales  Global_Sales  \n",
       "0     41.49     29.02      3.77         8.46         82.74  \n",
       "1     29.08      3.58      6.81         0.77         40.24  \n",
       "2     15.85     12.88      3.79         3.31         35.82  \n",
       "3     15.75     11.01      3.28         2.96         33.00  \n",
       "4     11.27      8.89     10.22         1.00         31.37  "
      ]
     },
     "execution_count": 21,
     "metadata": {},
     "output_type": "execute_result"
    }
   ],
   "source": [
    "#Adjust data pathway\n",
    "import os\n",
    "print(os.getcwd())\n",
    "\n",
    "%cd \"C:\\Users\\marti\\Video-Game-Sales-on-a-Global-Scale\\notebooks\"\n",
    "GITHUB_RAW = \"https://raw.githubusercontent.com/mjg377/Video-Game-Sales-on-a-Global-Scale/main/data/vgsales.csv\"\n",
    "df = pd.read_csv(GITHUB_RAW)\n",
    "\n",
    "\n",
    "df=pd.read_csv(GITHUB_RAW)\n",
    "print(\"Shape:\", df.shape)\n",
    "\n",
    "df.head()"
   ]
  },
  {
   "cell_type": "code",
   "execution_count": 4,
   "id": "1c9393a0-ad14-4780-bf9a-204995b3e026",
   "metadata": {},
   "outputs": [
    {
     "name": "stdout",
     "output_type": "stream",
     "text": [
      "Rank              int64\n",
      "Name             object\n",
      "Platform         object\n",
      "Year            float64\n",
      "Genre            object\n",
      "Publisher        object\n",
      "NA_Sales        float64\n",
      "EU_Sales        float64\n",
      "JP_Sales        float64\n",
      "Other_Sales     float64\n",
      "Global_Sales    float64\n",
      "dtype: object\n"
     ]
    },
    {
     "data": {
      "text/plain": [
       "NA_Sales          0\n",
       "EU_Sales          0\n",
       "JP_Sales          0\n",
       "Other_Sales       0\n",
       "Global_Sales      0\n",
       "Name              0\n",
       "Platform          0\n",
       "Year            271\n",
       "Genre             0\n",
       "Publisher        58\n",
       "dtype: int64"
      ]
     },
     "execution_count": 4,
     "metadata": {},
     "output_type": "execute_result"
    }
   ],
   "source": [
    "#Column names and types\n",
    "print (df.dtypes)\n",
    "\n",
    "#Ensure column types are similar, especially the values for sales in regions\n",
    "\n",
    "sales_cols = ['NA_Sales','EU_Sales','JP_Sales','Other_Sales','Global_Sales']\n",
    "for c in sales_cols:\n",
    "    if c in df.columns:\n",
    "        df[c]= pd.to_numeric(df[c])\n",
    "\n",
    "#Check for any Null values in the remaining columns \n",
    "df[sales_cols + ['Name','Platform','Year','Genre','Publisher']].isnull().sum()\n",
    "\n"
   ]
  },
  {
   "cell_type": "code",
   "execution_count": 5,
   "id": "1786a6cd-b335-4437-95ab-a15c930e5f2f",
   "metadata": {},
   "outputs": [
    {
     "data": {
      "text/plain": [
       "NA_Sales        0\n",
       "EU_Sales        0\n",
       "JP_Sales        0\n",
       "Other_Sales     0\n",
       "Global_Sales    0\n",
       "Name            0\n",
       "Platform        0\n",
       "Year            0\n",
       "Genre           0\n",
       "Publisher       0\n",
       "dtype: int64"
      ]
     },
     "execution_count": 5,
     "metadata": {},
     "output_type": "execute_result"
    }
   ],
   "source": [
    "# It seems there were 271 null values in Years and 58 is publishers, I have to choose which data to keep and remove.\n",
    "#I will use an 'unknown' placeholder instead for the publishers and remove the years since time series analysis will be performed later\n",
    "\n",
    "df = df.dropna(subset=['Year'])\n",
    "df['Publisher']=df['Publisher'].fillna('Unknown')\n",
    "\n",
    "#I converted the 'Year' column to an integer data type so it looks more presentable\n",
    "df['Year']=df['Year'].astype(int)\n",
    "#Double Check to see if they any null values were removed. \n",
    "df[sales_cols + ['Name','Platform','Year','Genre','Publisher']].isnull().sum()\n"
   ]
  },
  {
   "cell_type": "code",
   "execution_count": 6,
   "id": "e2d58701-2fb8-4cd7-9258-ba631a3bbf82",
   "metadata": {},
   "outputs": [
    {
     "data": {
      "text/html": [
       "<style type=\"text/css\">\n",
       "</style>\n",
       "<table id=\"T_2570b\">\n",
       "  <thead>\n",
       "    <tr>\n",
       "      <th class=\"blank level0\" >&nbsp;</th>\n",
       "      <th id=\"T_2570b_level0_col0\" class=\"col_heading level0 col0\" >Name</th>\n",
       "      <th id=\"T_2570b_level0_col1\" class=\"col_heading level0 col1\" >Platform</th>\n",
       "      <th id=\"T_2570b_level0_col2\" class=\"col_heading level0 col2\" >Year</th>\n",
       "      <th id=\"T_2570b_level0_col3\" class=\"col_heading level0 col3\" >Genre</th>\n",
       "      <th id=\"T_2570b_level0_col4\" class=\"col_heading level0 col4\" >Publisher</th>\n",
       "      <th id=\"T_2570b_level0_col5\" class=\"col_heading level0 col5\" >Global_Sales</th>\n",
       "    </tr>\n",
       "  </thead>\n",
       "  <tbody>\n",
       "    <tr>\n",
       "      <th id=\"T_2570b_level0_row0\" class=\"row_heading level0 row0\" >0</th>\n",
       "      <td id=\"T_2570b_row0_col0\" class=\"data row0 col0\" >Wii Sports</td>\n",
       "      <td id=\"T_2570b_row0_col1\" class=\"data row0 col1\" >Wii</td>\n",
       "      <td id=\"T_2570b_row0_col2\" class=\"data row0 col2\" >2006</td>\n",
       "      <td id=\"T_2570b_row0_col3\" class=\"data row0 col3\" >Sports</td>\n",
       "      <td id=\"T_2570b_row0_col4\" class=\"data row0 col4\" >Nintendo</td>\n",
       "      <td id=\"T_2570b_row0_col5\" class=\"data row0 col5\" >82.74</td>\n",
       "    </tr>\n",
       "    <tr>\n",
       "      <th id=\"T_2570b_level0_row1\" class=\"row_heading level0 row1\" >1</th>\n",
       "      <td id=\"T_2570b_row1_col0\" class=\"data row1 col0\" >Super Mario Bros.</td>\n",
       "      <td id=\"T_2570b_row1_col1\" class=\"data row1 col1\" >NES</td>\n",
       "      <td id=\"T_2570b_row1_col2\" class=\"data row1 col2\" >1985</td>\n",
       "      <td id=\"T_2570b_row1_col3\" class=\"data row1 col3\" >Platform</td>\n",
       "      <td id=\"T_2570b_row1_col4\" class=\"data row1 col4\" >Nintendo</td>\n",
       "      <td id=\"T_2570b_row1_col5\" class=\"data row1 col5\" >40.24</td>\n",
       "    </tr>\n",
       "    <tr>\n",
       "      <th id=\"T_2570b_level0_row2\" class=\"row_heading level0 row2\" >2</th>\n",
       "      <td id=\"T_2570b_row2_col0\" class=\"data row2 col0\" >Mario Kart Wii</td>\n",
       "      <td id=\"T_2570b_row2_col1\" class=\"data row2 col1\" >Wii</td>\n",
       "      <td id=\"T_2570b_row2_col2\" class=\"data row2 col2\" >2008</td>\n",
       "      <td id=\"T_2570b_row2_col3\" class=\"data row2 col3\" >Racing</td>\n",
       "      <td id=\"T_2570b_row2_col4\" class=\"data row2 col4\" >Nintendo</td>\n",
       "      <td id=\"T_2570b_row2_col5\" class=\"data row2 col5\" >35.82</td>\n",
       "    </tr>\n",
       "    <tr>\n",
       "      <th id=\"T_2570b_level0_row3\" class=\"row_heading level0 row3\" >3</th>\n",
       "      <td id=\"T_2570b_row3_col0\" class=\"data row3 col0\" >Wii Sports Resort</td>\n",
       "      <td id=\"T_2570b_row3_col1\" class=\"data row3 col1\" >Wii</td>\n",
       "      <td id=\"T_2570b_row3_col2\" class=\"data row3 col2\" >2009</td>\n",
       "      <td id=\"T_2570b_row3_col3\" class=\"data row3 col3\" >Sports</td>\n",
       "      <td id=\"T_2570b_row3_col4\" class=\"data row3 col4\" >Nintendo</td>\n",
       "      <td id=\"T_2570b_row3_col5\" class=\"data row3 col5\" >33.00</td>\n",
       "    </tr>\n",
       "    <tr>\n",
       "      <th id=\"T_2570b_level0_row4\" class=\"row_heading level0 row4\" >4</th>\n",
       "      <td id=\"T_2570b_row4_col0\" class=\"data row4 col0\" >Pokemon Red/Pokemon Blue</td>\n",
       "      <td id=\"T_2570b_row4_col1\" class=\"data row4 col1\" >GB</td>\n",
       "      <td id=\"T_2570b_row4_col2\" class=\"data row4 col2\" >1996</td>\n",
       "      <td id=\"T_2570b_row4_col3\" class=\"data row4 col3\" >Role-Playing</td>\n",
       "      <td id=\"T_2570b_row4_col4\" class=\"data row4 col4\" >Nintendo</td>\n",
       "      <td id=\"T_2570b_row4_col5\" class=\"data row4 col5\" >31.37</td>\n",
       "    </tr>\n",
       "    <tr>\n",
       "      <th id=\"T_2570b_level0_row5\" class=\"row_heading level0 row5\" >5</th>\n",
       "      <td id=\"T_2570b_row5_col0\" class=\"data row5 col0\" >Tetris</td>\n",
       "      <td id=\"T_2570b_row5_col1\" class=\"data row5 col1\" >GB</td>\n",
       "      <td id=\"T_2570b_row5_col2\" class=\"data row5 col2\" >1989</td>\n",
       "      <td id=\"T_2570b_row5_col3\" class=\"data row5 col3\" >Puzzle</td>\n",
       "      <td id=\"T_2570b_row5_col4\" class=\"data row5 col4\" >Nintendo</td>\n",
       "      <td id=\"T_2570b_row5_col5\" class=\"data row5 col5\" >30.26</td>\n",
       "    </tr>\n",
       "    <tr>\n",
       "      <th id=\"T_2570b_level0_row6\" class=\"row_heading level0 row6\" >6</th>\n",
       "      <td id=\"T_2570b_row6_col0\" class=\"data row6 col0\" >New Super Mario Bros.</td>\n",
       "      <td id=\"T_2570b_row6_col1\" class=\"data row6 col1\" >DS</td>\n",
       "      <td id=\"T_2570b_row6_col2\" class=\"data row6 col2\" >2006</td>\n",
       "      <td id=\"T_2570b_row6_col3\" class=\"data row6 col3\" >Platform</td>\n",
       "      <td id=\"T_2570b_row6_col4\" class=\"data row6 col4\" >Nintendo</td>\n",
       "      <td id=\"T_2570b_row6_col5\" class=\"data row6 col5\" >30.01</td>\n",
       "    </tr>\n",
       "    <tr>\n",
       "      <th id=\"T_2570b_level0_row7\" class=\"row_heading level0 row7\" >7</th>\n",
       "      <td id=\"T_2570b_row7_col0\" class=\"data row7 col0\" >Wii Play</td>\n",
       "      <td id=\"T_2570b_row7_col1\" class=\"data row7 col1\" >Wii</td>\n",
       "      <td id=\"T_2570b_row7_col2\" class=\"data row7 col2\" >2006</td>\n",
       "      <td id=\"T_2570b_row7_col3\" class=\"data row7 col3\" >Misc</td>\n",
       "      <td id=\"T_2570b_row7_col4\" class=\"data row7 col4\" >Nintendo</td>\n",
       "      <td id=\"T_2570b_row7_col5\" class=\"data row7 col5\" >29.02</td>\n",
       "    </tr>\n",
       "    <tr>\n",
       "      <th id=\"T_2570b_level0_row8\" class=\"row_heading level0 row8\" >8</th>\n",
       "      <td id=\"T_2570b_row8_col0\" class=\"data row8 col0\" >New Super Mario Bros. Wii</td>\n",
       "      <td id=\"T_2570b_row8_col1\" class=\"data row8 col1\" >Wii</td>\n",
       "      <td id=\"T_2570b_row8_col2\" class=\"data row8 col2\" >2009</td>\n",
       "      <td id=\"T_2570b_row8_col3\" class=\"data row8 col3\" >Platform</td>\n",
       "      <td id=\"T_2570b_row8_col4\" class=\"data row8 col4\" >Nintendo</td>\n",
       "      <td id=\"T_2570b_row8_col5\" class=\"data row8 col5\" >28.62</td>\n",
       "    </tr>\n",
       "    <tr>\n",
       "      <th id=\"T_2570b_level0_row9\" class=\"row_heading level0 row9\" >9</th>\n",
       "      <td id=\"T_2570b_row9_col0\" class=\"data row9 col0\" >Duck Hunt</td>\n",
       "      <td id=\"T_2570b_row9_col1\" class=\"data row9 col1\" >NES</td>\n",
       "      <td id=\"T_2570b_row9_col2\" class=\"data row9 col2\" >1984</td>\n",
       "      <td id=\"T_2570b_row9_col3\" class=\"data row9 col3\" >Shooter</td>\n",
       "      <td id=\"T_2570b_row9_col4\" class=\"data row9 col4\" >Nintendo</td>\n",
       "      <td id=\"T_2570b_row9_col5\" class=\"data row9 col5\" >28.31</td>\n",
       "    </tr>\n",
       "  </tbody>\n",
       "</table>\n"
      ],
      "text/plain": [
       "<pandas.io.formats.style.Styler at 0x1e3da1efa10>"
      ]
     },
     "execution_count": 6,
     "metadata": {},
     "output_type": "execute_result"
    }
   ],
   "source": [
    "#Now, we filter Nintendo titles based on Publisher name or Name (Nintendo sometimes uses itself as the publisher also)\n",
    "\n",
    "\n",
    "nintendo_df = df[df['Publisher'].str.contains('Nintendo',na=False, case= False)]\n",
    "nintendo_top5 = nintendo_df.sort_values('Global_Sales', ascending=False).head(10)[['Name','Platform','Year','Genre', 'Publisher','Global_Sales']]\n",
    "nintendo_top5.reset_index(drop=True, inplace=True)\n",
    "nintendo_top5.style.format({'Global_Sales':'{:.2f}'})\n",
    "\n"
   ]
  },
  {
   "cell_type": "code",
   "execution_count": 7,
   "id": "f89c01f7-8189-4bd6-a244-facfabb2b190",
   "metadata": {},
   "outputs": [
    {
     "data": {
      "text/plain": [
       "{'Nintendo': 1784.43, 'Sony': 636.02, 'Microsoft': 245.79}"
      ]
     },
     "execution_count": 7,
     "metadata": {},
     "output_type": "execute_result"
    }
   ],
   "source": [
    "#Now that we have the top 10 Publishers for Nintendo, we will now separate the three main ones, Nintendo, Sony and Microsoft\n",
    "separated_publishers = ['Nintendo', 'Sony', 'Microsoft']\n",
    "\n",
    "#Since some publishers show with slight different variations of naming; we'll match case-sensitive using contains\n",
    "#We will will create a function where we take the total sales of the three publisher listed above.\n",
    "def total_sales_for_publishers(df, pub_keyword):\n",
    "    mask=df['Publisher'].str.contains(pub_keyword, na=False, case=False)\n",
    "    return round(float(df.loc[mask,'Global_Sales'].sum()),2)\n",
    "publisher_totals= {pub:total_sales_for_publishers(df,pub) for pub in separated_publishers}\n",
    "publisher_totals  \n",
    "\n",
    "\n"
   ]
  },
  {
   "cell_type": "code",
   "execution_count": 8,
   "id": "2a6b3b4f-8d75-4b32-b21d-cbc5289118fa",
   "metadata": {},
   "outputs": [
    {
     "data": {
      "image/png": "[encoded data removed]",
      "text/plain": [
       "<Figure size 900x600 with 1 Axes>"
      ]
     },
     "metadata": {},
     "output_type": "display_data"
    }
   ],
   "source": [
    "#Now that we have Nintendo, Sony, and Microsoft total sales, we can now chart these for visual comparison\n",
    "#We add the titles and labels respectively to their data.\n",
    "publish_totals_series=pd.Series(publisher_totals).sort_values(ascending=False)\n",
    "plt.figure(figsize=(9,6))\n",
    "sns.barplot(x=publish_totals_series.index, y=publish_totals_series.values)\n",
    "plt.ylabel('Total Global Sales (millions)')\n",
    "plt.title('Total Global Series-Nintendo vs Sony vs Microsoft')\n",
    "for i, v in enumerate (publish_totals_series.values):\n",
    "    plt.text(i,v + 0.5, f\"{v:.1f}\", ha ='center')\n",
    "plt.tight_layout()\n",
    "plt.show()\n"
   ]
  },
  {
   "cell_type": "code",
   "execution_count": 9,
   "id": "5dce2ec5-7f33-4ca0-9998-802e9eebad27",
   "metadata": {},
   "outputs": [
    {
     "data": {
      "text/html": [
       "<div>\n",
       "<style scoped>\n",
       "    .dataframe tbody tr th:only-of-type {\n",
       "        vertical-align: middle;\n",
       "    }\n",
       "\n",
       "    .dataframe tbody tr th {\n",
       "        vertical-align: top;\n",
       "    }\n",
       "\n",
       "    .dataframe thead th {\n",
       "        text-align: right;\n",
       "    }\n",
       "</style>\n",
       "<table border=\"1\" class=\"dataframe\">\n",
       "  <thead>\n",
       "    <tr style=\"text-align: right;\">\n",
       "      <th></th>\n",
       "      <th>NA_Sales</th>\n",
       "      <th>EU_Sales</th>\n",
       "      <th>JP_Sales</th>\n",
       "      <th>Other_Sales</th>\n",
       "      <th>Global_Sales</th>\n",
       "    </tr>\n",
       "    <tr>\n",
       "      <th>Publisher</th>\n",
       "      <th></th>\n",
       "      <th></th>\n",
       "      <th></th>\n",
       "      <th></th>\n",
       "      <th></th>\n",
       "    </tr>\n",
       "  </thead>\n",
       "  <tbody>\n",
       "    <tr>\n",
       "      <th>Nintendo</th>\n",
       "      <td>815.75</td>\n",
       "      <td>418.30</td>\n",
       "      <td>454.99</td>\n",
       "      <td>95.19</td>\n",
       "      <td>1784.43</td>\n",
       "    </tr>\n",
       "    <tr>\n",
       "      <th>Sony</th>\n",
       "      <td>277.18</td>\n",
       "      <td>197.70</td>\n",
       "      <td>76.74</td>\n",
       "      <td>84.35</td>\n",
       "      <td>636.02</td>\n",
       "    </tr>\n",
       "    <tr>\n",
       "      <th>Microsoft</th>\n",
       "      <td>155.35</td>\n",
       "      <td>68.61</td>\n",
       "      <td>3.26</td>\n",
       "      <td>18.56</td>\n",
       "      <td>245.79</td>\n",
       "    </tr>\n",
       "  </tbody>\n",
       "</table>\n",
       "</div>"
      ],
      "text/plain": [
       "           NA_Sales  EU_Sales  JP_Sales  Other_Sales  Global_Sales\n",
       "Publisher                                                         \n",
       "Nintendo     815.75    418.30    454.99        95.19       1784.43\n",
       "Sony         277.18    197.70     76.74        84.35        636.02\n",
       "Microsoft    155.35     68.61      3.26        18.56        245.79"
      ]
     },
     "execution_count": 9,
     "metadata": {},
     "output_type": "execute_result"
    }
   ],
   "source": [
    "#Now that we created the bar graphs with all three major publisher sales, we can now take Nintendo's regional performances.\n",
    "def regional_sales_by_publisher(df, pub_keyword):\n",
    "    mask = df['Publisher'].str.contains(pub_keyword, na=False, case=False)\n",
    "    regs=df.loc[mask, sales_cols].sum()\n",
    "    return regs\n",
    "regional = pd.DataFrame({pub: regional_sales_by_publisher(df, pub) for pub in separated_publishers}).T\n",
    "regional.index.name = 'Publisher'\n",
    "regional\n",
    "#Here we can see that in every regional sales chart, Nintendo takes the lead in sales."
   ]
  },
  {
   "cell_type": "code",
   "execution_count": 10,
   "id": "8cc650cd-8027-4c4a-b0dc-30362c028210",
   "metadata": {},
   "outputs": [
    {
     "data": {
      "image/png": "[encoded data removed]",
      "text/plain": [
       "<Figure size 900x600 with 1 Axes>"
      ]
     },
     "metadata": {},
     "output_type": "display_data"
    }
   ],
   "source": [
    "#Now that we know that overall, Nintendo leads in sales, we now look into which genres perform well with Nintendo sales\n",
    "#Code block 45 contains the Nintendo df that was created to look at its specific data\n",
    "if 'Genre' in nintendo_df.columns:\n",
    "    genre_counts= nintendo_df.groupby('Genre')['Global_Sales'].sum()\n",
    "    plt.figure(figsize= (9,6))\n",
    "    sns.barplot(x=genre_counts.values, y=genre_counts.index)\n",
    "    plt.xlabel('Global Sales (millions)')\n",
    "    plt.title('Top Genres by Global Sales for Nintendo')\n",
    "    plt.tight_layout()\n",
    "    plt.show()\n",
    "else: \n",
    "    print(\"Genre column not found.\") # We use this since there are some 'Unknown values that were added in the data ealier.\n",
    "    \n",
    "\n",
    "\n"
   ]
  },
  {
   "cell_type": "code",
   "execution_count": 25,
   "id": "4e4be240-4e23-4ad4-a545-698384903bb0",
   "metadata": {},
   "outputs": [
    {
     "name": "stdout",
     "output_type": "stream",
     "text": [
      "C:\\Users\\marti\\Video-Game-Sales-on-a-Global-Scale\\notebooks\n",
      "Saved../data/nintendo_vgsales_clean_csv\n"
     ]
    }
   ],
   "source": [
    "#Cleaned Nintendo-only csv for faster reloads.\n",
    "import os\n",
    "print(os.getcwd())\n",
    "nintendo_df.to_csv('../data/nintendo_vgsales_clean.csv', index=False)\n",
    "print(\"Saved../data/nintendo_vgsales_clean_csv\")\n"
   ]
  },
  {
   "cell_type": "code",
   "execution_count": null,
   "id": "1c848772-1a2f-471d-8da8-87fbcd8d1d30",
   "metadata": {},
   "outputs": [],
   "source": []
  }
 ],
 "metadata": {
  "kernelspec": {
   "display_name": "Python [conda env:base]",
   "language": "python",
   "name": "conda-base-py"
  },
  "language_info": {
   "codemirror_mode": {
    "name": "ipython",
    "version": 3
   },
   "file_extension": ".py",
   "mimetype": "text/x-python",
   "name": "python",
   "nbconvert_exporter": "python",
   "pygments_lexer": "ipython3",
   "version": "3.13.5"
  }
 },
 "nbformat": 4,
 "nbformat_minor": 5
}
